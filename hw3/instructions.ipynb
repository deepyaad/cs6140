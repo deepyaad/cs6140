{
 "cells": [
  {
   "cell_type": "code",
   "execution_count": 1,
   "id": "dceb2044-51cc-4870-a572-889196bc6af7",
   "metadata": {},
   "outputs": [],
   "source": [
    "import numpy as np\n",
    "from sklearn import datasets\n",
    "from sklearn.model_selection import train_test_split\n",
    "import matplotlib.pyplot as plt\n",
    "import random as r\n",
    "from sklearn.metrics import roc_auc_score\n",
    "import numpy as np\n",
    "import matplotlib.pyplot as plt\n",
    "from mlxtend.plotting import plot_decision_regions\n",
    "from sklearn import datasets"
   ]
  },
  {
   "cell_type": "markdown",
   "id": "b4f00395-1824-4380-b999-c55a59341dc7",
   "metadata": {
    "jupyter": {
     "source_hidden": true
    }
   },
   "source": [
    "# Question 1 (50)\n",
    "\n",
    "In this problem, we explore SVM and MLP for targeting the classification tasks in half-circles and moons datasets.\n",
    "- Generate half-circles and moons datasets with 1000 and 10000 points. You will use all these\n",
    "datasets to train and evaluate your model in the later steps.\n",
    "- Visualize each of the four datasets. Use different colors for different classes.\n",
    "- Split the data for 5-fold cross validation. Make sure your code is generalizable to k-folds.\n",
    "- For each of the following algorithms implement it from scratch, including training and test\n",
    "setups. Explain which metrics you will use for performance evaluation. Explain and report\n",
    "your choices of design and hyper-parameters. Make sure to document any experiments you\n",
    "performed for choosing the best design or hyper-parameters.\n",
    "  - Simple MLP\n",
    "  - SVM with each of the following Kernels : Linear, Polynomial, RBF, and Sigmoid.\n",
    "- Create a table for your final results over the mean of results over the 5 folds and include the\n",
    "performance of each of the methods you implemented both on train and test sets.\n",
    "- Visualize the output of your model. Use different colors for different classes\n",
    "Perform a comparison between results and identify the best kernel for each of the datasets.\n",
    "Why do you think that kernell performed the best?\n",
    "- Discuss the effect of having more data on the performance. Why do you think having more\n",
    "data helped or did not help?\n",
    "- Did cross validation in better evaluating the model? If not in what situation it would have\n",
    "helped?\n",
    "- Compare the computational cost between all methods.\n",
    "\n",
    "**Make sure you report your quantitative results in tables and figures and tables have titles and\n",
    "additional info needed.**"
   ]
  },
  {
   "cell_type": "markdown",
   "id": "814c1c48-629f-42d0-bc34-5d281043b8fe",
   "metadata": {},
   "source": [
    "* input size was based on the 2 input features\n",
    "* output size was based on the 1 output feature (probability of class A\n",
    "* "
   ]
  },
  {
   "cell_type": "markdown",
   "id": "f46e2607-70e3-48e0-b915-0aba793c2f48",
   "metadata": {},
   "source": [
    "# Question 2 (25)\n",
    "\n",
    "In this problem, we investigate using SVM for multi-class and multi-label classification.\n",
    "\n",
    "## Multi-Label Classification\n",
    "- Download PlantGo, a multi-label dataset, from the website Multi-Label Classification Dataset Repository. Make sure you download the “Random Train-Test” version. You can choose the version you need to download from the drop-down menu in the title section of table.\n",
    "Based on the instructions on the website convert the data to Numpy array.\n",
    "- Design an algorithm in which you use SVM to perform multi-label classification. Write the\n",
    "pseudo-code for your algorithm for training and testing.\n",
    "- What are the metrics you can use for evaluation of your model? Why you chose those specific\n",
    "metrics?\n",
    "- Implement your proposed algorithm.\n",
    "- Report the result of your algorithm on your proposed metrics.\n",
    "\n",
    "### Multi-Class Classification\n",
    "- Use SKlearn to get the MNIST dataset which is a multi-class dataset.\n",
    "- Design an algorithm in which you use SVM to perform multi-class classification. Write the pseudo-code for your algorithm for training and testing.\n",
    "- What are the metrics you can use for evaluation of your model? Why you chose those specific\n",
    "metrics?\n",
    "- Implement your proposed algorithm.\n",
    "- Report the result of your algorithm on your proposed metrics.\n",
    "\n",
    "**Please note you can use your SVM implementation from Question 1.**"
   ]
  },
  {
   "cell_type": "markdown",
   "id": "411a12a9-16e6-49e9-8151-2081a4f7eda9",
   "metadata": {},
   "source": [
    "# Question 3 (25)\n",
    "\n",
    "In this problem, we examine the capabilities of RNNs for long range dependencies.\n",
    "\n",
    "- Design a special time-series signal that has long-term dependencies. Visualize the data you have created. Split your data into train and test set.\n",
    "- Implement an RNN from scratch including training and test setup. Set the memory size variable and experiment with memory sizes 2 and 5.\n",
    "- Report the performance of the model. Visualize your model output vs. the ground truth for some samples. Discuss if your model have been successful in capturing long-range dependencies. Was the long-range dependencies of the data complex enough?\n",
    "\n",
    "**Make sure you report your quantitative results in tables and figures and tables have titles and additional info needed.**\n"
   ]
  }
 ],
 "metadata": {
  "kernelspec": {
   "display_name": "Python 3 (ipykernel)",
   "language": "python",
   "name": "python3"
  },
  "language_info": {
   "codemirror_mode": {
    "name": "ipython",
    "version": 3
   },
   "file_extension": ".py",
   "mimetype": "text/x-python",
   "name": "python",
   "nbconvert_exporter": "python",
   "pygments_lexer": "ipython3",
   "version": "3.8.13"
  }
 },
 "nbformat": 4,
 "nbformat_minor": 5
}
